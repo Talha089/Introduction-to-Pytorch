{
 "cells": [
  {
   "cell_type": "markdown",
   "metadata": {},
   "source": [
    "# Neural networks with PyTorch\n",
    "\n",
    "Deep learning networks tend to be massive with dozens or hundreds of layers, that's where the term \"deep\" comes from. You can build one of these deep networks using only weight matrices as we did in the previous notebook, but in general it's very cumbersome and difficult to implement. PyTorch has a nice module `nn` that provides a nice way to efficiently build large neural networks."
   ]
  },
  {
   "cell_type": "code",
   "execution_count": 4,
   "metadata": {},
   "outputs": [],
   "source": [
    "# Import necessary packages\n",
    "\n",
    "%matplotlib inline\n",
    "%config InlineBackend.figure_format = 'retina'\n",
    "\n",
    "import numpy as np\n",
    "import torch\n",
    "\n",
    "import helper\n",
    "\n",
    "import matplotlib.pyplot as plt"
   ]
  },
  {
   "cell_type": "markdown",
   "metadata": {},
   "source": [
    "\n",
    "Now we're going to build a larger network that can solve a (formerly) difficult problem, identifying text in an image. Here we'll use the MNIST dataset which consists of greyscale handwritten digits. Each image is 28x28 pixels, you can see a sample below\n",
    "\n",
    "\n",
    "Our goal is to build a neural network that can take one of these images and predict the digit in the image.\n",
    "\n",
    "First up, we need to get our dataset. This is provided through the `torchvision` package. The code below will download the MNIST dataset, then create training and test datasets for us. Don't worry too much about the details here, you'll learn more about this later."
   ]
  },
  {
   "cell_type": "code",
   "execution_count": 5,
   "metadata": {},
   "outputs": [
    {
     "name": "stdout",
     "output_type": "stream",
     "text": [
      "Using downloaded and verified file: /home/talhajavaidmalik/.pytorch/MNIST_data/MNIST/raw/train-images-idx3-ubyte.gz\n",
      "Extracting /home/talhajavaidmalik/.pytorch/MNIST_data/MNIST/raw/train-images-idx3-ubyte.gz to /home/talhajavaidmalik/.pytorch/MNIST_data/MNIST/raw\n"
     ]
    },
    {
     "name": "stderr",
     "output_type": "stream",
     "text": [
      "\n",
      "\n",
      "0it [00:00, ?it/s]\u001b[A\u001b[A"
     ]
    },
    {
     "name": "stdout",
     "output_type": "stream",
     "text": [
      "Using downloaded and verified file: /home/talhajavaidmalik/.pytorch/MNIST_data/MNIST/raw/train-labels-idx1-ubyte.gz\n",
      "Extracting /home/talhajavaidmalik/.pytorch/MNIST_data/MNIST/raw/train-labels-idx1-ubyte.gz to /home/talhajavaidmalik/.pytorch/MNIST_data/MNIST/raw\n",
      "Downloading http://yann.lecun.com/exdb/mnist/t10k-images-idx3-ubyte.gz to /home/talhajavaidmalik/.pytorch/MNIST_data/MNIST/raw/t10k-images-idx3-ubyte.gz\n"
     ]
    },
    {
     "name": "stderr",
     "output_type": "stream",
     "text": [
      "\n",
      "\n",
      "  0%|          | 0/1648877 [00:00<?, ?it/s]\u001b[A\u001b[A\n",
      "\n",
      "  1%|          | 16384/1648877 [00:00<00:33, 48686.22it/s]\u001b[A\u001b[A\n",
      "\n",
      "  2%|▏         | 40960/1648877 [00:01<00:25, 63060.29it/s]\u001b[A\u001b[A\n",
      "\n",
      "  4%|▍         | 73728/1648877 [00:01<00:18, 83218.97it/s]\u001b[A\u001b[A\n",
      "\n",
      "  5%|▌         | 90112/1648877 [00:01<00:16, 94200.41it/s]\u001b[A\u001b[A\n",
      "\n",
      "  6%|▋         | 106496/1648877 [00:01<00:16, 92812.61it/s]\u001b[A\u001b[A\n",
      "\n",
      "  8%|▊         | 131072/1648877 [00:01<00:13, 112979.36it/s]\u001b[A\u001b[A\n",
      "\n",
      " 10%|█         | 172032/1648877 [00:01<00:10, 142558.21it/s]\u001b[A\u001b[A\n",
      "\n",
      " 13%|█▎        | 221184/1648877 [00:01<00:08, 170561.35it/s]\u001b[A\u001b[A\n",
      "\n",
      " 16%|█▌        | 262144/1648877 [00:01<00:06, 206225.34it/s]\u001b[A\u001b[A\n",
      "\n",
      " 18%|█▊        | 303104/1648877 [00:02<00:05, 241750.68it/s]\u001b[A\u001b[A\n",
      "\n",
      " 21%|██▏       | 352256/1648877 [00:02<00:04, 280311.64it/s]\u001b[A\u001b[A\n",
      "\n",
      " 25%|██▍       | 409600/1648877 [00:02<00:03, 319402.59it/s]\u001b[A\u001b[A\n",
      "\n",
      " 28%|██▊       | 458752/1648877 [00:02<00:03, 347682.97it/s]\u001b[A\u001b[A\n",
      "\n",
      " 30%|███       | 499712/1648877 [00:02<00:03, 327359.38it/s]\u001b[A\u001b[A\n",
      "\n",
      " 33%|███▎      | 540672/1648877 [00:02<00:03, 305313.76it/s]\u001b[A\u001b[A\n",
      "\n",
      " 36%|███▌      | 589824/1648877 [00:02<00:03, 342559.51it/s]\u001b[A\u001b[A\n",
      "\n",
      " 39%|███▉      | 647168/1648877 [00:02<00:02, 376562.36it/s]\u001b[A\u001b[A\n",
      "\n",
      " 43%|████▎     | 704512/1648877 [00:03<00:02, 409030.89it/s]\u001b[A\u001b[A\n",
      "\n",
      " 47%|████▋     | 778240/1648877 [00:03<00:01, 460193.82it/s]\u001b[A\u001b[A\n",
      "\n",
      " 51%|█████     | 835584/1648877 [00:03<00:01, 477914.73it/s]\u001b[A\u001b[A\n",
      "\n",
      " 54%|█████▍    | 892928/1648877 [00:03<00:01, 492440.27it/s]\u001b[A\u001b[A\n",
      "\n",
      " 58%|█████▊    | 950272/1648877 [00:03<00:01, 479817.02it/s]\u001b[A\u001b[A\n",
      "\n",
      " 61%|██████    | 1007616/1648877 [00:03<00:01, 417303.41it/s]\u001b[A\u001b[A\n",
      "\n",
      " 65%|██████▌   | 1073152/1648877 [00:03<00:01, 457334.88it/s]\u001b[A\u001b[A\n",
      "\n",
      " 70%|██████▉   | 1146880/1648877 [00:03<00:00, 506095.12it/s]\u001b[A\u001b[A\n",
      "\n",
      " 74%|███████▎  | 1212416/1648877 [00:04<00:00, 509876.24it/s]\u001b[A\u001b[A\n",
      "\n",
      " 77%|███████▋  | 1269760/1648877 [00:04<00:00, 464536.19it/s]\u001b[A\u001b[A\n",
      "\n",
      " 80%|████████  | 1327104/1648877 [00:04<00:00, 478754.53it/s]\u001b[A\u001b[A\n",
      "\n",
      " 84%|████████▍ | 1384448/1648877 [00:04<00:00, 431136.94it/s]\u001b[A\u001b[A\n",
      "\n",
      " 88%|████████▊ | 1449984/1648877 [00:04<00:00, 443405.43it/s]\u001b[A\u001b[A\n",
      "\n",
      " 92%|█████████▏| 1515520/1648877 [00:04<00:00, 475314.22it/s]\u001b[A\u001b[A\n",
      "\n",
      " 95%|█████████▌| 1572864/1648877 [00:04<00:00, 456244.46it/s]\u001b[A\u001b[A\n",
      "\n",
      "100%|█████████▉| 1646592/1648877 [00:04<00:00, 500425.95it/s]\u001b[A\u001b[A\n",
      "\n",
      "\n",
      "0it [00:00, ?it/s]\u001b[A\u001b[A\u001b[A"
     ]
    },
    {
     "name": "stdout",
     "output_type": "stream",
     "text": [
      "Extracting /home/talhajavaidmalik/.pytorch/MNIST_data/MNIST/raw/t10k-images-idx3-ubyte.gz to /home/talhajavaidmalik/.pytorch/MNIST_data/MNIST/raw\n",
      "Downloading http://yann.lecun.com/exdb/mnist/t10k-labels-idx1-ubyte.gz to /home/talhajavaidmalik/.pytorch/MNIST_data/MNIST/raw/t10k-labels-idx1-ubyte.gz\n"
     ]
    },
    {
     "name": "stderr",
     "output_type": "stream",
     "text": [
      "\n",
      "\n",
      "\n",
      "8192it [00:00, 12293.14it/s]            \u001b[A\u001b[A\u001b[A\n"
     ]
    },
    {
     "name": "stdout",
     "output_type": "stream",
     "text": [
      "Extracting /home/talhajavaidmalik/.pytorch/MNIST_data/MNIST/raw/t10k-labels-idx1-ubyte.gz to /home/talhajavaidmalik/.pytorch/MNIST_data/MNIST/raw\n",
      "Processing...\n",
      "Done!\n"
     ]
    }
   ],
   "source": [
    "### Run this cell\n",
    "\n",
    "from torchvision import datasets, transforms\n",
    "\n",
    "# Define a transform to normalize the data\n",
    "transform = transforms.Compose([transforms.ToTensor(),\n",
    "                              transforms.Normalize((0.5,), (0.5,)),\n",
    "                              ])\n",
    "# Download and load the training data\n",
    "trainset = datasets.MNIST('~/.pytorch/MNIST_data/', download=True, train=True, transform=transform)\n",
    "trainloader = torch.utils.data.DataLoader(trainset, batch_size=64, shuffle=True)"
   ]
  },
  {
   "cell_type": "markdown",
   "metadata": {},
   "source": [
    "We have the training data loaded into `trainloader` and we make that an iterator with `iter(trainloader)`. Later, we'll use this to loop through the dataset for training, like\n",
    "\n",
    "```python\n",
    "for image, label in trainloader:\n",
    "    ## do things with images and labels\n",
    "```\n",
    "\n",
    "You'll notice I created the `trainloader` with a batch size of 64, and `shuffle=True`. The batch size is the number of images we get in one iteration from the data loader and pass through our network, often called a *batch*. And `shuffle=True` tells it to shuffle the dataset every time we start going through the data loader again. But here I'm just grabbing the first batch so we can check out the data. We can see below that `images` is just a tensor with size `(64, 1, 28, 28)`. So, 64 images per batch, 1 color channel, and 28x28 images."
   ]
  },
  {
   "cell_type": "code",
   "execution_count": 6,
   "metadata": {},
   "outputs": [
    {
     "name": "stdout",
     "output_type": "stream",
     "text": [
      "<class 'torch.Tensor'>\n",
      "torch.Size([64, 1, 28, 28])\n",
      "torch.Size([64])\n"
     ]
    },
    {
     "name": "stderr",
     "output_type": "stream",
     "text": [
      "\n",
      "\n",
      "1654784it [00:21, 500425.95it/s]                             \u001b[A\u001b[A"
     ]
    }
   ],
   "source": [
    "dataiter = iter(trainloader)\n",
    "images, labels = dataiter.next()\n",
    "print(type(images))\n",
    "print(images.shape)\n",
    "print(labels.shape)"
   ]
  },
  {
   "cell_type": "markdown",
   "metadata": {},
   "source": [
    "This is what one of the images looks like"
   ]
  },
  {
   "cell_type": "code",
   "execution_count": 8,
   "metadata": {},
   "outputs": [
    {
     "data": {
      "image/png": "[encoded data removed]",
      "text/plain": [
       "<Figure size 432x288 with 1 Axes>"
      ]
     },
     "metadata": {
      "image/png": {
       "height": 248,
       "width": 251
      },
      "needs_background": "light"
     },
     "output_type": "display_data"
    }
   ],
   "source": [
    "plt.imshow(images[1].numpy().squeeze(), cmap='Greys_r');"
   ]
  },
  {
   "cell_type": "markdown",
   "metadata": {},
   "source": [
    "First, let's try to build a simple network for this dataset using weight matrices and matrix multiplications. Then, we'll see how to do it using PyTorch's `nn` module which provides a much more convenient and powerful method for defining network architectures.\n",
    "\n",
    "The networks you've seen so far are called *fully-connected* or *dense* networks. Each unit in one layer is connected to each unit in the next layer. In fully-connected networks, the input to each layer must be a one-dimensional vector (which can be stacked into a 2D tensor as a batch of multiple examples). However, our images are 28x28 2D tensors, so we need to convert them into 1D vectors. Thinking about sizes, we need to convert the batch of images with shape `(64, 1, 28, 28)` to a have a shape of `(64, 784)`, 784 is 28 times 28. This is typically called *flattening*, we flattened the 2D images into 1D vectors.\n",
    "\n",
    "Previously you built a network with one output unit. Here we need 10 output units, one for each digit. We want our network to predict the digit shown in an image, so what we'll do is calculate probabilities that the image is of any one digit or class. This ends up being a discrete probability distribution over the classes (digits) that tells us the most likely class for the image. That means we need 10 output units for the 10 classes (digits). We'll see how to convert the network output into a probability distribution next.\n",
    "\n",
    "> **Exercise:** Flatten the batch of images `images`. Then build a multi-layer network with 784 input units, 256 hidden units, and 10 output units using random tensors for the weights and biases. For now, use a sigmoid activation for the hidden layer. Leave the output layer without an activation, we'll add one that gives us a probability distribution next."
   ]
  },
  {
   "cell_type": "code",
   "execution_count": 10,
   "metadata": {},
   "outputs": [],
   "source": [
    "## Solution\n",
    "def activation(x):\n",
    "    return 1/(1+torch.exp(-x))\n",
    "\n",
    "# Flatten the input images\n",
    "inputs = images.view(images.shape[0], -1)\n",
    "\n",
    "# Create parameters\n",
    "w1 = torch.randn(784, 256)\n",
    "b1 = torch.randn(256)\n",
    "\n",
    "w2 = torch.randn(256, 10)\n",
    "b2 = torch.randn(10)\n",
    "\n",
    "h = activation(torch.mm(inputs, w1) + b1)\n",
    "\n",
    "out = torch.mm(h, w2) + b2"
   ]
  },
  {
   "cell_type": "code",
   "execution_count": 11,
   "metadata": {},
   "outputs": [
    {
     "data": {
      "text/plain": [
       "tensor([[-1.6016e+01, -7.3541e+00,  1.0555e+01,  2.4903e+01,  2.0508e-01,\n",
       "          1.6385e+01, -7.2485e+00, -4.1143e+01,  9.4532e-01,  1.9620e+00],\n",
       "        [-8.1637e+00, -1.2743e+00,  1.4493e+01,  1.5701e+01, -4.1659e+00,\n",
       "          2.2410e+01, -6.5785e+00, -3.2612e+01, -4.3639e+00, -7.8294e+00],\n",
       "        [-1.4584e+01, -1.5444e+01,  1.1008e+01,  1.3250e+01,  5.6265e+00,\n",
       "          2.2002e+01, -1.6584e+01, -3.3369e+01, -2.2410e+00, -5.3998e-01],\n",
       "        [-9.7689e+00, -7.8731e+00,  1.4967e+01,  1.1518e+01,  1.2688e+00,\n",
       "          1.8944e+01, -1.8765e+01, -2.1104e+01,  3.3373e+00,  5.8888e+00],\n",
       "        [-1.4216e+01, -1.5988e+01,  2.2167e+01,  1.1995e+01,  1.3397e+01,\n",
       "          3.1005e+01,  5.2722e-01, -3.6138e+01,  7.3203e-01, -1.7481e+00],\n",
       "        [-1.9596e+01,  5.9842e-01,  1.1507e+01,  1.0204e+01,  2.3157e+00,\n",
       "          1.9845e+01, -6.5652e+00, -3.7134e+01, -5.0136e+00,  6.1790e-01],\n",
       "        [-1.5967e+01, -1.4361e+01,  1.9455e+01,  1.1867e+01,  8.9044e+00,\n",
       "          1.6615e+01, -9.4643e+00, -2.2027e+01,  3.9760e+00, -7.2833e+00],\n",
       "        [-1.4773e+01, -1.1491e+01,  1.7234e+01,  9.1556e+00,  3.7455e+00,\n",
       "          1.8672e+01, -9.7051e+00, -2.2038e+01, -6.4275e-01, -1.2359e+01],\n",
       "        [-6.7090e+00, -9.1815e+00,  1.1014e+01,  1.3501e+01,  1.5738e+00,\n",
       "          3.0076e+01, -1.3291e+01, -2.9783e+01, -1.3449e-02, -5.2917e+00],\n",
       "        [-1.0556e+01, -1.5281e+01,  9.9502e+00,  1.2354e+01, -4.6837e+00,\n",
       "          1.7594e+01, -7.0809e+00, -2.3608e+01,  2.8494e+00, -7.9780e+00],\n",
       "        [-4.7368e+00, -6.1210e+00,  1.5454e+01,  1.4993e+01,  2.5954e+00,\n",
       "          1.8026e+01, -1.0484e+01, -2.6011e+01,  9.0261e+00, -8.9110e+00],\n",
       "        [-2.1068e+01, -5.0794e+00,  1.3140e+01,  1.3262e+01, -5.0457e+00,\n",
       "          2.2183e+01, -1.9554e+01, -2.9120e+01,  3.9756e+00, -3.0840e-02],\n",
       "        [-6.5085e+00, -2.8654e+00,  1.7646e+01,  1.8917e+01,  2.1044e+00,\n",
       "          2.7989e+01, -1.3963e+01, -3.8149e+01, -4.5658e+00, -1.8593e+00],\n",
       "        [-1.7412e+01, -8.5896e+00,  1.0286e+01,  1.6752e+01,  9.5506e+00,\n",
       "          1.8952e+01, -1.0021e+01, -3.9634e+01,  1.3025e+01, -4.7376e+00],\n",
       "        [-9.6284e+00, -7.7917e+00,  1.5978e+01,  1.7280e+01, -7.1966e-01,\n",
       "          3.3625e+01, -1.0629e+01, -3.1115e+01,  1.3710e+01, -3.7152e+00],\n",
       "        [-2.3282e+01, -6.8480e+00,  2.0151e+01,  1.2608e+01,  5.6635e+00,\n",
       "          1.5957e+01, -1.3277e+01, -2.4224e+01,  4.3512e+00, -8.6001e+00],\n",
       "        [-1.4178e+01, -7.6145e+00,  1.5738e+01,  2.4325e+01,  3.5129e+00,\n",
       "          2.1046e+01, -1.7446e+01, -3.8377e+01, -1.2494e+00, -6.3633e+00],\n",
       "        [-7.3476e+00, -1.4413e+01,  1.0722e+01,  9.2732e+00,  1.0189e+01,\n",
       "          2.1989e+01, -1.4330e+01, -2.4673e+01,  4.7560e+00, -4.0888e+00],\n",
       "        [-8.3272e+00, -8.1649e+00,  5.1195e+00,  1.3944e+01,  5.5658e+00,\n",
       "          3.0071e+01, -1.3093e+01, -2.8901e+01,  3.8200e+00,  1.7144e+00],\n",
       "        [-2.2708e+01, -1.2024e+01,  1.3909e+01,  1.2001e+01,  2.4904e+00,\n",
       "          1.4880e+01, -1.7577e+01, -2.7978e+01, -1.1131e+01, -3.5130e+00],\n",
       "        [-1.1774e+01, -9.2240e+00,  1.8025e+01,  1.6394e+01,  5.6174e+00,\n",
       "          2.6487e+01, -1.6436e+01, -2.9935e+01,  5.9281e-01, -5.9962e+00],\n",
       "        [-1.3541e+01, -4.7649e+00,  2.5364e+01,  6.3086e+00,  5.4087e+00,\n",
       "          2.7035e+01, -2.7424e+00, -3.5000e+01, -6.5196e+00, -3.4153e+00],\n",
       "        [-1.4078e+01, -7.0805e+00,  8.6794e+00,  2.1172e+01, -4.5612e-01,\n",
       "          2.3359e+01, -4.7297e+00, -3.5371e+01,  6.1691e+00,  9.0028e-01],\n",
       "        [-2.1400e+01, -7.8834e+00,  1.4580e+01,  1.4434e+01, -1.8405e+00,\n",
       "          2.8954e+01, -8.2376e+00, -3.6300e+01, -3.7412e+00, -2.6633e+00],\n",
       "        [-1.3910e+01, -1.1543e+01,  1.8618e+00,  1.7196e+01,  1.4906e+01,\n",
       "          2.2101e+01, -1.5859e+01, -4.5214e+01,  1.8251e+00, -1.7674e+00],\n",
       "        [-6.7458e+00, -8.6312e+00,  1.1479e+01,  1.8480e+01, -1.7861e+00,\n",
       "          2.5534e+01, -1.5900e+01, -2.7346e+01,  8.9929e+00, -6.4956e+00],\n",
       "        [-1.0258e+01, -9.1076e+00,  8.8461e+00,  2.0805e+01,  2.9016e+00,\n",
       "          3.3424e+01, -1.7726e+01, -3.0126e+01,  2.0192e+00, -3.0037e+00],\n",
       "        [-1.9385e+01, -7.7978e+00,  1.3882e+01,  1.7785e+01, -1.8361e+00,\n",
       "          2.4448e+01, -2.3050e+01, -3.1760e+01, -3.6080e+00, -3.0753e+00],\n",
       "        [-1.1144e+01, -5.4554e+00,  5.5891e+00,  1.3076e+01, -5.5571e+00,\n",
       "          2.6039e+01, -1.5271e+01, -2.4788e+01,  5.0076e+00, -3.7298e+00],\n",
       "        [-1.9665e+01, -1.2549e+01,  1.4856e+01,  1.2773e+01,  3.7342e+00,\n",
       "          2.0618e+01, -2.1733e+01, -3.2424e+01,  2.5864e-01, -1.2516e+01],\n",
       "        [-1.6257e+01, -3.1248e+00,  2.1037e+01,  4.9849e+00, -3.1141e+00,\n",
       "          2.6986e+01, -1.4976e+01, -4.0474e+01,  3.8413e+00, -6.0754e+00],\n",
       "        [-1.8047e+01, -6.3387e+00,  1.1890e+01,  1.0729e+01,  3.1034e+00,\n",
       "          8.9562e+00, -2.0313e+01, -2.5081e+01, -5.7756e-01, -9.3033e+00],\n",
       "        [-1.8247e+00, -1.2541e+01,  2.4749e+01,  1.0408e+01,  1.2246e+01,\n",
       "          2.5907e+01, -8.7869e+00, -4.1018e+01,  1.6141e+00, -2.4473e+00],\n",
       "        [-2.0727e+01, -4.7920e+00,  1.3834e+01,  2.0075e+01, -1.3148e+00,\n",
       "          1.8134e+01, -7.8975e+00, -2.6477e+01, -4.5476e+00,  9.1042e+00],\n",
       "        [-1.4188e+01, -1.2875e+01,  1.7164e+01,  1.1878e+01,  1.1000e+01,\n",
       "          2.6512e+01, -1.6070e+01, -2.6756e+01, -3.1929e+00, -9.9593e+00],\n",
       "        [-1.8341e+01, -2.6680e-01,  1.7761e+01,  1.4374e+01,  4.9629e+00,\n",
       "          1.8925e+01, -1.8930e+01, -3.4734e+01, -1.2856e+00, -6.1117e+00],\n",
       "        [-1.4436e+01, -1.6093e+01,  2.1569e+01,  1.7687e+01,  3.5862e-01,\n",
       "          1.1649e+01, -2.0306e+01, -3.1527e+01,  8.2077e+00, -5.6681e+00],\n",
       "        [-8.3185e+00, -8.2622e+00,  1.9481e+01,  2.6803e+01,  2.5698e+00,\n",
       "          2.4392e+01,  2.5628e+00, -3.5904e+01, -1.9704e+00,  8.4871e+00],\n",
       "        [-7.8516e+00, -1.0012e+01,  1.1796e+01,  1.6546e+01,  5.3124e+00,\n",
       "          2.9895e+01, -1.5028e+01, -2.9739e+01,  1.2601e+00,  2.2089e-01],\n",
       "        [-3.6136e+00, -6.8805e+00,  9.0843e+00,  2.1272e+01,  1.0513e+00,\n",
       "          2.5962e+01, -1.8221e+01, -2.8895e+01, -1.0928e-01, -6.3028e+00],\n",
       "        [-1.2116e+01, -1.4879e+01,  2.9715e+00,  1.8607e+01, -2.5333e+00,\n",
       "          2.8381e+01, -5.6594e+00, -4.2496e+01, -6.3486e+00, -1.3317e+00],\n",
       "        [-1.2825e+01, -3.9675e+00,  1.5983e+01,  1.6590e+01, -2.9042e-01,\n",
       "          2.0720e+01, -1.3377e+01, -3.0502e+01,  6.9340e-01, -3.8844e+00],\n",
       "        [-9.5395e+00, -4.7933e+00,  1.4823e+01,  1.4131e+01,  7.0880e+00,\n",
       "          2.5972e+01, -1.1955e+01, -2.7842e+01, -4.9597e+00,  3.0914e+00],\n",
       "        [-9.4926e+00, -1.2823e+01,  1.2931e+01,  1.9091e+01,  1.5822e+00,\n",
       "          2.4429e+01, -7.5355e+00, -3.3988e+01,  1.5496e+01, -5.8323e+00],\n",
       "        [-7.9356e+00, -1.2888e+01,  2.1081e+01,  9.8447e+00,  9.5370e+00,\n",
       "          3.1001e+01, -1.1340e+01, -2.5369e+01,  1.5359e+01, -9.4946e+00],\n",
       "        [-1.6660e+01, -7.0824e+00,  2.1353e+01,  1.2594e+01,  2.3291e+00,\n",
       "          1.6382e+01, -2.2024e+01, -2.6290e+01,  8.3965e-01,  1.3705e+00],\n",
       "        [-1.0784e+01, -1.3766e+01,  1.6615e+01,  1.8606e+01,  5.7234e+00,\n",
       "          1.9095e+01, -1.0050e+01, -3.0978e+01, -3.4914e+00, -3.2952e+00],\n",
       "        [-6.2667e+00, -7.7694e+00,  1.8031e+01,  1.0278e+01,  1.4910e+01,\n",
       "          2.6655e+01, -9.5980e+00, -3.4804e+01, -3.8061e+00, -7.4264e-01],\n",
       "        [-4.1328e+00, -7.7376e+00,  1.5842e+01,  1.2440e+01,  8.2749e+00,\n",
       "          3.2492e+01, -5.6620e+00, -3.7189e+01, -8.8779e+00, -1.3043e-01],\n",
       "        [-1.6959e+01, -9.3199e-01,  1.6502e+01,  1.3249e+01,  3.8187e+00,\n",
       "          1.8541e+01, -1.5218e+01, -2.1229e+01, -8.0389e-01, -5.7237e+00],\n",
       "        [-9.7196e+00, -7.4512e+00,  1.9342e+01,  1.7752e+01,  7.5978e+00,\n",
       "          1.7493e+01, -6.4098e+00, -3.7121e+01,  3.2515e+00, -7.3933e+00],\n",
       "        [-3.3968e+00, -5.2788e+00,  1.5452e+01,  4.2222e+00,  6.1280e+00,\n",
       "          2.9591e+01, -1.5785e+01, -2.9825e+01,  8.8665e+00, -1.0235e+01],\n",
       "        [-1.5368e+01, -2.4174e+00,  1.1318e+01,  2.2620e+01,  5.4336e-01,\n",
       "          1.7654e+01, -1.1778e+01, -3.1896e+01, -8.0284e+00,  7.6795e-01],\n",
       "        [-1.2848e+01, -1.1249e+01,  7.4160e+00,  2.1572e+01, -2.7477e+00,\n",
       "          3.0433e+01, -1.4162e+01, -2.8112e+01,  1.0019e+00, -4.7036e+00],\n",
       "        [-1.0559e+01, -2.8940e+00,  1.1529e+01,  1.3473e+01,  2.9238e+00,\n",
       "          2.4136e+01, -5.6128e+00, -2.7286e+01,  3.4679e+00, -2.7216e+00],\n",
       "        [-1.4235e+01, -1.7758e+01,  1.2805e+01,  2.2756e+01, -3.9545e+00,\n",
       "          2.1232e+01, -7.6018e+00, -3.8873e+01,  6.5349e-01,  1.2158e+01],\n",
       "        [-9.6324e+00, -2.0116e+01,  1.7182e+01,  1.9356e+01,  6.5774e-01,\n",
       "          2.0955e+01, -2.0789e+01, -2.2749e+01,  9.4842e+00, -1.3867e+01],\n",
       "        [-9.0493e+00, -5.7659e+00,  1.3126e+01,  1.8867e+01, -6.9762e+00,\n",
       "          2.4914e+01, -1.2573e+01, -2.7806e+01, -3.0775e+00, -2.0487e+00],\n",
       "        [-7.1745e+00, -1.6536e+01,  3.7177e+00,  1.5605e+01,  2.9496e+00,\n",
       "          2.0250e+01, -5.6506e+00, -3.1462e+01,  2.0312e+00, -1.4807e+01],\n",
       "        [-1.0608e+01, -6.3403e+00,  1.4086e+01,  2.0620e+01,  5.6032e+00,\n",
       "          1.7160e+01, -9.1414e+00, -3.0851e+01, -1.3472e+00, -1.5883e+00],\n",
       "        [-2.0365e+01,  6.1123e-01,  1.3961e+01,  1.0001e+01,  1.6870e+00,\n",
       "          2.4647e+01, -1.2232e+01, -2.5827e+01,  5.0120e+00, -3.5913e+00],\n",
       "        [-5.0712e-01, -2.2673e+01,  1.6580e+01,  1.7416e+01,  6.9132e+00,\n",
       "          3.0867e+01, -1.2823e+01, -2.3264e+01,  1.0875e+01, -1.1394e+01],\n",
       "        [-7.5972e+00, -1.1006e+01,  1.7474e+01,  2.0358e+01, -1.6819e+00,\n",
       "          2.9123e+01, -1.5888e+01, -2.6356e+01,  1.6377e+01, -2.4916e+00],\n",
       "        [ 7.0011e+00, -1.0502e+01,  8.4654e+00,  1.6332e+01,  4.6106e+00,\n",
       "          2.3825e+01, -6.0561e+00, -3.0418e+01, -9.6391e+00,  7.9510e+00]])"
      ]
     },
     "execution_count": 11,
     "metadata": {},
     "output_type": "execute_result"
    }
   ],
   "source": [
    "out"
   ]
  },
  {
   "cell_type": "code",
   "execution_count": null,
   "metadata": {},
   "outputs": [],
   "source": []
  }
 ],
 "metadata": {
  "celltoolbar": "Raw Cell Format",
  "kernelspec": {
   "display_name": "Python 3",
   "language": "python",
   "name": "python3"
  },
  "language_info": {
   "codemirror_mode": {
    "name": "ipython",
    "version": 3
   },
   "file_extension": ".py",
   "mimetype": "text/x-python",
   "name": "python",
   "nbconvert_exporter": "python",
   "pygments_lexer": "ipython3",
   "version": "3.7.5"
  }
 },
 "nbformat": 4,
 "nbformat_minor": 2
}
